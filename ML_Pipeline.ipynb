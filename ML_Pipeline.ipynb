{
  "nbformat": 4,
  "nbformat_minor": 0,
  "metadata": {
    "colab": {
      "name": "ML Pipeline",
      "provenance": [],
      "collapsed_sections": [],
      "authorship_tag": "ABX9TyMHLqRTp4IzlMy4lHUi97TY",
      "include_colab_link": true
    },
    "kernelspec": {
      "display_name": "Python 3",
      "name": "python3"
    }
  },
  "cells": [
    {
      "cell_type": "markdown",
      "metadata": {
        "id": "view-in-github",
        "colab_type": "text"
      },
      "source": [
        "<a href=\"https://colab.research.google.com/github/syeds-git/facial-recognition-notebook/blob/main/ML_Pipeline.ipynb\" target=\"_parent\"><img src=\"https://colab.research.google.com/assets/colab-badge.svg\" alt=\"Open In Colab\"/></a>"
      ]
    },
    {
      "cell_type": "code",
      "metadata": {
        "id": "3IPiislkubBv"
      },
      "source": [
        "!pip install tflite-model-maker"
      ],
      "execution_count": null,
      "outputs": []
    },
    {
      "cell_type": "code",
      "metadata": {
        "id": "Bd7BAAeCuhi9"
      },
      "source": [
        "# Imports\n",
        "import numpy as np\n",
        "\n",
        "import tensorflow as tf\n",
        "assert tf.__version__.startswith('2')\n",
        "\n",
        "from tflite_model_maker import configs\n",
        "from tflite_model_maker import ExportFormat\n",
        "from tflite_model_maker import image_classifier\n",
        "from tflite_model_maker import ImageClassifierDataLoader\n",
        "from tflite_model_maker import model_spec\n",
        "\n",
        "import os\n",
        "import matplotlib.image as mpimg\n",
        "from tensorflow.keras.preprocessing.image import ImageDataGenerator\n",
        "from tensorflow.keras import layers\n",
        "import matplotlib.pyplot as plt"
      ],
      "execution_count": null,
      "outputs": []
    },
    {
      "cell_type": "code",
      "metadata": {
        "colab": {
          "base_uri": "https://localhost:8080/"
        },
        "id": "xsmDpDK3uiYK",
        "outputId": "f3147d94-6997-4193-daaa-c05310d34069"
      },
      "source": [
        "# Mount Google Drive\n",
        "from google.colab import drive\n",
        "drive.mount('/content/gdrive')\n"
      ],
      "execution_count": null,
      "outputs": [
        {
          "output_type": "stream",
          "text": [
            "Drive already mounted at /content/gdrive; to attempt to forcibly remount, call drive.mount(\"/content/gdrive\", force_remount=True).\n"
          ],
          "name": "stdout"
        }
      ]
    },
    {
      "cell_type": "code",
      "metadata": {
        "id": "_6_Y1k5pLSyL"
      },
      "source": [
        "# Use model from TF HUB\n",
        "bigt_r152x4_v1_spec = model_spec.ImageModelSpec(\n",
        "    uri='https://tfhub.dev/google/bit/m-r152x4/1')\n",
        "\n",
        "mobilenet_v2_100_96 = model_spec.ImageModelSpec(\n",
        "    uri='https://tfhub.dev/google/imagenet/mobilenet_v2_100_96/classification/4')\n",
        "mobilenet_v2_100_96.input_image_shape = [96, 96]"
      ],
      "execution_count": null,
      "outputs": []
    },
    {
      "cell_type": "code",
      "metadata": {
        "id": "JhnH3jYXvFMK"
      },
      "source": [
        "# Define all combinations to try\n",
        "configs = [           \n",
        "           [model_spec.mobilenet_v2_spec, 'faces.clean.no-random.50.zip', 50, 0.003, 0, 'mobilenet_v2_spec_faces__clean_no_random_50_50']           \n",
        "           ]"
      ],
      "execution_count": null,
      "outputs": []
    },
    {
      "cell_type": "code",
      "metadata": {
        "id": "c9WUpvLMxPXr"
      },
      "source": [
        "# Run all configs\n",
        "import shutil\n",
        "import glob\n",
        "\n",
        "results = []\n",
        "prevInputDataZip=''\n",
        "count = 0\n",
        "trainedModels = []\n",
        "for config in configs:\n",
        "  baseModel = config[0]\n",
        "  inputDataZip = config[1]\n",
        "  EPOCHS = config[2]\n",
        "  LR = config[3]\n",
        "  DROPOUT = config[4]\n",
        "  TFLITE_NAME = config[5]\n",
        "  dataFolder = 'data'\n",
        "\n",
        "  if (prevInputDataZip != inputDataZip):\n",
        "    if (os.path.exists(dataFolder)):\n",
        "      shutil.rmtree(dataFolder)\n",
        "    \n",
        "    os.mkdir(dataFolder)\n",
        "    !unzip -q /content/gdrive/MyDrive/data/$inputDataZip -d $dataFolder\n",
        "  \n",
        "  prevInputDataZip = inputDataZip\n",
        "  image_path = dataFolder+'/faces'\n",
        "  \n",
        "  # Load data \n",
        "  data = ImageClassifierDataLoader.from_folder(image_path)\n",
        "  \n",
        "  # Split data\n",
        "  train_data, rest_data = data.split(0.8)\n",
        "  validation_data, test_data = rest_data.split(0.5)\n",
        "  \n",
        "  # Train using models available in model maker\n",
        "  # model = image_classifier.create(train_data, model_spec=baseModel, validation_data=validation_data, epochs=EPOCHS, learning_rate=LR, dropout_rate=DROPOUT)\n",
        "  model = image_classifier.create(train_data, model_spec=baseModel, validation_data=validation_data, epochs=EPOCHS, learning_rate=LR)\n",
        "  \n",
        "  # Save & export\n",
        "  trainedModels.append(model)\n",
        "  # Export & evaluate tflite\n",
        "  model.export(export_dir='.', label_filename=TFLITE_NAME + '.labels.txt', export_format=ExportFormat.LABEL)\n",
        "  model.export(export_dir='.', tflite_filename=TFLITE_NAME + '.tflite', export_format=ExportFormat.TFLITE)\n",
        "  # model.evaluate_tflite(TFLITE_NAME + '.tflite', test_data)\n",
        "\n",
        "  # Evaluate\n",
        "  loss, accuracy = model.evaluate(test_data)\n",
        "  results.append((loss, accuracy))\n",
        "  print('Model# ' + str(count) + ': Loss=' + str(loss) + ', Accuracy=' + str(accuracy))\n",
        "  count = count + 1\n"
      ],
      "execution_count": null,
      "outputs": []
    },
    {
      "cell_type": "code",
      "metadata": {
        "id": "u8nPa61zKKil"
      },
      "source": [
        "!cp 'mobilenet_v2_spec_faces_x_clean_100.tflite' '/content/gdrive/MyDrive/mobilenet_v2_spec_faces_x_clean_100.tflite'\n",
        "!cp 'mobilenet_v2_spec_faces_x_clean_100.labels.txt' '/content/gdrive/MyDrive/mobilenet_v2_spec_faces_x_clean_100.labels.txt'"
      ],
      "execution_count": null,
      "outputs": []
    },
    {
      "cell_type": "code",
      "metadata": {
        "colab": {
          "base_uri": "https://localhost:8080/",
          "height": 499
        },
        "id": "xfY2WwN3VbeC",
        "outputId": "a3d1b6b7-cfdd-49d9-b354-3254f29c3534"
      },
      "source": [
        "# Check history\n",
        "histModel = model\n",
        "epochs = EPOCHS\n",
        "history = model.history.history\n",
        "acc = history['accuracy']\n",
        "val_acc = history['val_accuracy']\n",
        "\n",
        "loss = history['loss']\n",
        "val_loss = history['val_loss']\n",
        "\n",
        "epochs_range = range(epochs)\n",
        "\n",
        "plt.figure(figsize=(8, 8))\n",
        "plt.subplot(1, 2, 1)\n",
        "plt.plot(epochs_range, acc, label='Training Accuracy')\n",
        "plt.plot(epochs_range, val_acc, label='Validation Accuracy')\n",
        "plt.legend(loc='lower right')\n",
        "plt.title('Training and Validation Accuracy')\n",
        "\n",
        "plt.subplot(1, 2, 2)\n",
        "plt.plot(epochs_range, loss, label='Training Loss')\n",
        "plt.plot(epochs_range, val_loss, label='Validation Loss')\n",
        "plt.legend(loc='upper right')\n",
        "plt.title('Training and Validation Loss')\n",
        "plt.show()"
      ],
      "execution_count": null,
      "outputs": [
        {
          "output_type": "display_data",
          "data": {
            "image/png": "[encoded data removed]",
            "text/plain": [
              "<Figure size 576x576 with 2 Axes>"
            ]
          },
          "metadata": {
            "tags": [],
            "needs_background": "light"
          }
        }
      ]
    },
    {
      "cell_type": "code",
      "metadata": {
        "id": "t7N8MC14u8Um"
      },
      "source": [
        "# Export & evaluate tflite\n",
        "model.export(export_dir='.', label_filename='labels.txt', export_format=ExportFormat.LABEL)\n",
        "model.export(export_dir='.', tflite_filename='mobilenetModel.tflite', export_format=ExportFormat.TFLITE)\n",
        "model.evaluate_tflite('mobilenetModel.tflite', test_data)"
      ],
      "execution_count": null,
      "outputs": []
    },
    {
      "cell_type": "code",
      "metadata": {
        "id": "s8mu5A98_4a8"
      },
      "source": [
        "# Export to saved model\n",
        "model.export(export_dir='.', export_format=ExportFormat.SAVED_MODEL)"
      ],
      "execution_count": null,
      "outputs": []
    },
    {
      "cell_type": "code",
      "metadata": {
        "id": "YcJJPohvAJzj"
      },
      "source": [
        "savedModel = tf.saved_model.load('saved_model')\n",
        "class_names=['maryam','nawaz','shahbaz']\n"
      ],
      "execution_count": null,
      "outputs": []
    },
    {
      "cell_type": "code",
      "metadata": {
        "colab": {
          "base_uri": "https://localhost:8080/"
        },
        "id": "b6aGjN-GHuyt",
        "outputId": "6ee3375e-d7ce-445f-fd73-c0a3727fa160"
      },
      "source": [
        "lbl_map = np.array(class_names)\n",
        "print(lbl_map)"
      ],
      "execution_count": null,
      "outputs": [
        {
          "output_type": "stream",
          "text": [
            "['maryam' 'nawaz' 'shahbaz']\n"
          ],
          "name": "stdout"
        }
      ]
    },
    {
      "cell_type": "code",
      "metadata": {
        "id": "o0bG4lFpCGx4"
      },
      "source": [
        "import os\n",
        "import tempfile\n",
        "\n",
        "from matplotlib import pyplot as plt\n",
        "import numpy as np\n",
        "import tensorflow as tf\n",
        "from PIL import Image"
      ],
      "execution_count": null,
      "outputs": []
    },
    {
      "cell_type": "code",
      "metadata": {
        "id": "nMQTjKAaCH87"
      },
      "source": [
        "# Predict ALL\n",
        "import glob\n",
        "useModel=model\n",
        "class_names=['maryam','nawaz','shahbaz']\n",
        "for label in class_names:\n",
        "  print(\"Scanning: \" + label)\n",
        "  paths = glob.glob(\"image-data/\" + label + \"/*\")\n",
        "  for filePath in paths:\n",
        "    img = tf.keras.preprocessing.image.load_img(filePath, target_size=[224, 224])\n",
        "    x = tf.keras.preprocessing.image.img_to_array(img)\n",
        "    x = tf.keras.applications.mobilenet.preprocess_input(x[tf.newaxis,...])\n",
        "    print('Prediction for ' + filePath)\n",
        "    print(useModel.model.predict(tf.constant(x)))\n"
      ],
      "execution_count": null,
      "outputs": []
    }
  ]
}